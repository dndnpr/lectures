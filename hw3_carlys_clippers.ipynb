{
 "cells": [
  {
   "cell_type": "code",
   "execution_count": null,
   "id": "c2b7ceec-4e65-4f35-bb3d-957770775fee",
   "metadata": {},
   "outputs": [],
   "source": [
    "#과제 3: 칼리의 클리퍼스"
   ]
  },
  {
   "cell_type": "code",
   "execution_count": 173,
   "id": "ec038135-98c0-442d-bd87-1e5acc5ac7a9",
   "metadata": {},
   "outputs": [],
   "source": [
    "hairstyles = [\"bouffant\", \"pixie\", \"dreadlocks\", \"crew\", \"bowl\", \"bob\", \"mohawk\", \"flattop\"]"
   ]
  },
  {
   "cell_type": "code",
   "execution_count": 174,
   "id": "1b3d469b-dba4-4cc0-a568-65df09fae7e2",
   "metadata": {},
   "outputs": [],
   "source": [
    "prices = [30, 25, 40, 20, 20, 35, 50, 35]"
   ]
  },
  {
   "cell_type": "code",
   "execution_count": 175,
   "id": "8e0120e8-b502-4d95-8b82-f75a29449d02",
   "metadata": {},
   "outputs": [],
   "source": [
    "last_week = [2, 3, 5, 8, 4, 4, 6, 2]"
   ]
  },
  {
   "cell_type": "code",
   "execution_count": 177,
   "id": "4b15a4ea-633c-4540-bfc0-510f01a8d213",
   "metadata": {},
   "outputs": [],
   "source": [
    "#2\n",
    "for price in prices:\n",
    "    total_price += price"
   ]
  },
  {
   "cell_type": "code",
   "execution_count": 178,
   "id": "b671ca47-0a6c-4b2d-9dd3-432aaa6ba508",
   "metadata": {},
   "outputs": [],
   "source": [
    "#3\n",
    "average_price = total_price / len(prices)"
   ]
  },
  {
   "cell_type": "code",
   "execution_count": 179,
   "id": "9c032b4d-6c4d-4fea-b85e-5bec71f38492",
   "metadata": {},
   "outputs": [
    {
     "name": "stdout",
     "output_type": "stream",
     "text": [
      "Average Price is 31.875\n"
     ]
    }
   ],
   "source": [
    "#4\n",
    "print(\"Average Price is \" + str(average_price))"
   ]
  },
  {
   "cell_type": "code",
   "execution_count": 180,
   "id": "5be71aa0-d783-4958-add5-6bccec6d088a",
   "metadata": {},
   "outputs": [],
   "source": [
    "#5\n",
    "new_prices = [price - 5 for price in prices]"
   ]
  },
  {
   "cell_type": "code",
   "execution_count": 181,
   "id": "d3470df6-2c7c-4984-9ede-c315a5ea15b1",
   "metadata": {},
   "outputs": [
    {
     "name": "stdout",
     "output_type": "stream",
     "text": [
      "[25, 20, 35, 15, 15, 30, 45, 30]\n"
     ]
    }
   ],
   "source": [
    "#6\n",
    "print(new_prices)"
   ]
  },
  {
   "cell_type": "code",
   "execution_count": 182,
   "id": "fe975e32-3652-420d-b7f1-57211f6562b7",
   "metadata": {},
   "outputs": [],
   "source": [
    "#7\n",
    "total_revenue = 0"
   ]
  },
  {
   "cell_type": "code",
   "execution_count": 183,
   "id": "2945f34c-1264-48cf-9e10-0c3b90247f12",
   "metadata": {},
   "outputs": [],
   "source": [
    "#8, 9\n",
    "for i in range(len(hairstyles)) :\n",
    "    total_revenue += prices[i] * last_week[i]"
   ]
  },
  {
   "cell_type": "code",
   "execution_count": 184,
   "id": "71bb6264-c363-4673-9bc6-a7c484fe61b8",
   "metadata": {},
   "outputs": [
    {
     "name": "stdout",
     "output_type": "stream",
     "text": [
      "1085\n"
     ]
    }
   ],
   "source": [
    "#10\n",
    "print(total_revenue)"
   ]
  },
  {
   "cell_type": "code",
   "execution_count": 185,
   "id": "bc773d07-bbe9-44ae-8a5b-b3acd65319b5",
   "metadata": {},
   "outputs": [
    {
     "name": "stdout",
     "output_type": "stream",
     "text": [
      "Average daily revenue is 155.0\n"
     ]
    }
   ],
   "source": [
    "#11\n",
    "average_daily_revenue =total_revenue / 7\n",
    "print(\"Average daily revenue is \" + str(average_daily_revenue))"
   ]
  },
  {
   "cell_type": "code",
   "execution_count": 186,
   "id": "dabcb640-bdac-4f8b-8bb2-23dd019c9faf",
   "metadata": {},
   "outputs": [],
   "source": [
    "#13\n",
    "cut_under_30 = [hairstyles[i] for i in range(len(hairstyles)) if new_prices[i] <= 30 ]"
   ]
  },
  {
   "cell_type": "code",
   "execution_count": 187,
   "id": "f765aa64-9cf1-4a8a-9710-63aae05ad37a",
   "metadata": {},
   "outputs": [
    {
     "name": "stdout",
     "output_type": "stream",
     "text": [
      "['bouffant', 'pixie', 'crew', 'bowl']\n"
     ]
    }
   ],
   "source": [
    "#14\n",
    "print(cuts_under_30)"
   ]
  }
 ],
 "metadata": {
  "kernelspec": {
   "display_name": "Python 3 (ipykernel)",
   "language": "python",
   "name": "python3"
  },
  "language_info": {
   "codemirror_mode": {
    "name": "ipython",
    "version": 3
   },
   "file_extension": ".py",
   "mimetype": "text/x-python",
   "name": "python",
   "nbconvert_exporter": "python",
   "pygments_lexer": "ipython3",
   "version": "3.9.12"
  }
 },
 "nbformat": 4,
 "nbformat_minor": 5
}
