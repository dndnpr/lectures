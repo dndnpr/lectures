{
 "cells": [
  {
   "cell_type": "code",
   "execution_count": 1,
   "id": "9f72240e-745f-4381-ae88-699599ba16e5",
   "metadata": {},
   "outputs": [
    {
     "name": "stdout",
     "output_type": "stream",
     "text": [
      "[['physics', 98], ['calculus', 97], ['poetry', 85], ['history', 88]]\n"
     ]
    }
   ],
   "source": [
    "#과제2: 성적표\n",
    "#당신은 학생이고 파이썬을 사용하여 과목과 성적을 구성하려고합니다. 과목과 점수를 구성하기 위해 목록에 대해 배운 내용을 살펴 보겠습니다.\n",
    "\n",
    "#일부 목록 만들기:\n",
    "#1 호출 된 목록을 만들고 복용중인 클래스로 채 웁니다.subjects\n",
    "subjects = [\"physics\", \"calculus\", \"poetry\", \"history\"]\n",
    "\n",
    "#2 호출 된 목록을 만들고 점수로 채 웁니다.grades\n",
    "grades = [98, 97, 85, 88]\n",
    "\n",
    "#3 수동으로 (어떤 방법도없이) 결합 할 이차원 목록을 만들고 . 아래 표를 연관된 값에 대한 참조로 사용하십시오. 라는 변수에 값을 할당합니다.subjectsgradesgradebook\n",
    "gradebook = [[\"physics\", 98], [\"calculus\", 97], [\"poetry\", 85], [\"history\", 88]]\n",
    "\n",
    "#4 인쇄하다.gradebook\n",
    "print(gradebook)"
   ]
  },
  {
   "cell_type": "code",
   "execution_count": 2,
   "id": "22f33337-b371-4528-a26d-849e947267ff",
   "metadata": {},
   "outputs": [],
   "source": [
    "#5 컴퓨터 과학 수업에 대한 성적이 방금 들어왔습니다! 당신은 완벽한 점수를 얻었습니다! 이 방법을 사용하여 값과 관련 등급 값이있는 목록을 이차원 목록에 추가하십시오. 100.append()\"computer science\"100gradebook.\n",
    "gradebook.append([\"computer science\", 100])\n",
    "\n",
    "#6 방금 성적이 들어왔습니다! 당신은 93을 얻었다! 에 추가하는 데 사용합니다.\"visual arts\"append[\"visual arts\", 93]gradebook\n",
    "gradebook.append([\"visual arts\", 93])"
   ]
  },
  {
   "cell_type": "code",
   "execution_count": 3,
   "id": "ef394c98-21eb-42f1-bd68-e00993cdbbbe",
   "metadata": {},
   "outputs": [
    {
     "name": "stdout",
     "output_type": "stream",
     "text": [
      "[['physics', 98], ['calculus', 97], ['poetry', 85], ['history', 88], ['computer science', 100], ['visual arts', 93]]\n"
     ]
    }
   ],
   "source": [
    "print(gradebook)"
   ]
  },
  {
   "cell_type": "code",
   "execution_count": 4,
   "id": "e02f1de8-7d16-4784-9062-74b086842aad",
   "metadata": {},
   "outputs": [],
   "source": [
    "#7 우리 강사는 방금 실수로 채점을했으며 시각 예술 수업에 대해 추가 5 점을 보상하고 있다고 말했습니다. 시각 예술 수업의 학년 색인에 액세스하여 5 점 더 크게 수정하십시오.\n",
    "gradebook[5] = [\"visual arts\", 98]\n",
    "\n",
    "#8 당신은 당신의 시 수업에 대한 수치 등급 값에서 합격/실패 옵션으로 전환하기로 결정했습니다. 시 수업에서 학년 값을 찾아 이 방법을 사용하여 삭제합니다.gradebook.remove()\n",
    "gradebook[2].remove(85)\n",
    "\n",
    "#9 이 메서드를 사용하여 시 클래스가 있는 하위 목록에 새 값을 추가합니다..append()\"Pass\"\n",
    "gradebook[2].append(\"Pass\")"
   ]
  },
  {
   "cell_type": "code",
   "execution_count": 5,
   "id": "3850dcd1-f9d6-408e-a5ba-4cf1cf99cf1b",
   "metadata": {},
   "outputs": [
    {
     "name": "stdout",
     "output_type": "stream",
     "text": [
      "[['physics', 98], ['calculus', 97], ['poetry', 'Pass'], ['history', 88], ['computer science', 100], ['visual arts', 98]]\n"
     ]
    }
   ],
   "source": [
    "print(gradebook)"
   ]
  },
  {
   "cell_type": "code",
   "execution_count": 6,
   "id": "b9a87e7c-7e60-4786-9249-42a821d0739d",
   "metadata": {},
   "outputs": [
    {
     "name": "stdout",
     "output_type": "stream",
     "text": [
      "[('politics', 80), ('latin', 96), ('dance', 97), ('architecture', 65), ['physics', 98], ['calculus', 97], ['poetry', 'Pass'], ['history', 88], ['computer science', 100], ['visual arts', 98]]\n"
     ]
    }
   ],
   "source": [
    "#하나의 큰 성적표!\n",
    "\n",
    "#10 또한 지난 학기의 성적이 있습니다.last_semester_gradebook\n",
    "last_semester_gradebook = [(\"politics\", 80), (\"latin\", 96), (\"dance\", 97), (\"architecture\", 65)]\n",
    "full_gradebook = last_semester_gradebook + gradebook\n",
    "print(full_gradebook)"
   ]
  },
  {
   "cell_type": "code",
   "execution_count": null,
   "id": "bfb0982d-dc05-476f-b82a-34148fca7e0d",
   "metadata": {},
   "outputs": [],
   "source": []
  }
 ],
 "metadata": {
  "kernelspec": {
   "display_name": "Python 3 (ipykernel)",
   "language": "python",
   "name": "python3"
  },
  "language_info": {
   "codemirror_mode": {
    "name": "ipython",
    "version": 3
   },
   "file_extension": ".py",
   "mimetype": "text/x-python",
   "name": "python",
   "nbconvert_exporter": "python",
   "pygments_lexer": "ipython3",
   "version": "3.9.12"
  }
 },
 "nbformat": 4,
 "nbformat_minor": 5
}
