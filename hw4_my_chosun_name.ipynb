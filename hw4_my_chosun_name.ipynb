{
 "cells": [
  {
   "cell_type": "code",
   "execution_count": 171,
   "id": "c1b10e42-f1c9-41cb-9d4a-2e8097de956f",
   "metadata": {},
   "outputs": [],
   "source": [
    "#과제 4: 나의 조선시대 이름 찾기"
   ]
  },
  {
   "cell_type": "code",
   "execution_count": 182,
   "id": "d3dd502a-6c90-4d7c-a850-7d547ef1a452",
   "metadata": {},
   "outputs": [
    {
     "name": "stdout",
     "output_type": "stream",
     "text": [
      "['쌍', '쇠', '복', '돌', '팽', '육', '쌍', '개', '칠', '갑', '삼', '방']\n"
     ]
    }
   ],
   "source": [
    "#1\n",
    "month = ['쌍', '쇠', '복', '돌', '팽', '육', '쌍', '개', '칠', '갑', '삼', '방']\n",
    "print(month)"
   ]
  },
  {
   "cell_type": "code",
   "execution_count": 183,
   "id": "bf408c5e-7581-4855-aaab-76affb4ccb7a",
   "metadata": {},
   "outputs": [
    {
     "name": "stdout",
     "output_type": "stream",
     "text": [
      "['봉', '구', '욕', '포', '똥', '삼', '식', '석', '놈', '님', '년', '돌', '단', '득', '방', '질', '장', '걸', '래', '룡', '동', '순', '자', '박', '창', '언', '것', '포', '만', '단', '국']\n"
     ]
    }
   ],
   "source": [
    "#2\n",
    "day = ['봉', '구', '욕', '포', '똥', '삼', '식', '석', '놈', '님', '년', '돌', '단', '득', '방', '질', '장', '걸', '래', '룡', '동', '순', '자', '박', '창', '언', '것', '포', '만', '단', '국']\n",
    "print(day)"
   ]
  },
  {
   "cell_type": "code",
   "execution_count": 184,
   "id": "2af99667-8e75-4091-b9c7-5c88f186cbae",
   "metadata": {},
   "outputs": [],
   "source": [
    "#3\n",
    "def get_my_chosun_name(family_name, month, day):\n",
    "    print(\"당신의 조선시대 이름은 %s%s%s 입니다\" %(family_name, month_name[month - 1], day_name[day - 1]))"
   ]
  },
  {
   "cell_type": "code",
   "execution_count": 185,
   "id": "e3b8550d-75de-4cc6-b749-8325fccb33d2",
   "metadata": {},
   "outputs": [
    {
     "name": "stdout",
     "output_type": "stream",
     "text": [
      "당신의 조선시대 이름은 이방똥 입니다\n"
     ]
    }
   ],
   "source": [
    "#4\n",
    "get_my_chosun_name('이', 12, 5)"
   ]
  },
  {
   "cell_type": "code",
   "execution_count": 186,
   "id": "74c52aac-bab4-4f9e-862a-52a6a7333696",
   "metadata": {},
   "outputs": [
    {
     "name": "stdout",
     "output_type": "stream",
     "text": [
      "당신의 조선시대 이름은 안칠걸 입니다\n"
     ]
    }
   ],
   "source": [
    "get_my_chosun_name('안', 9, 18)"
   ]
  },
  {
   "cell_type": "code",
   "execution_count": null,
   "id": "90f5b58e-1562-4ab1-a0bc-b130f028fd2a",
   "metadata": {},
   "outputs": [],
   "source": []
  }
 ],
 "metadata": {
  "kernelspec": {
   "display_name": "Python 3 (ipykernel)",
   "language": "python",
   "name": "python3"
  },
  "language_info": {
   "codemirror_mode": {
    "name": "ipython",
    "version": 3
   },
   "file_extension": ".py",
   "mimetype": "text/x-python",
   "name": "python",
   "nbconvert_exporter": "python",
   "pygments_lexer": "ipython3",
   "version": "3.9.12"
  }
 },
 "nbformat": 4,
 "nbformat_minor": 5
}
