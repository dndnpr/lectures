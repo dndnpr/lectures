{
 "cells": [
  {
   "cell_type": "code",
   "execution_count": 1,
   "id": "9cfb78c7-78c4-42b6-9e3f-99f3aa6eee97",
   "metadata": {},
   "outputs": [
    {
     "name": "stdout",
     "output_type": "stream",
     "text": [
      "Customer One Items:\n",
      "Lovely Loveseat. Tufted polyester blend on wood. 32 inches high x 40 inches wide x 30 inches deep. Red or white.Luxurious Lamp. Glass and iron. 36 inches tall. Brown with cream shade.\n",
      "Customer One Total: 333.09119999999996\n"
     ]
    }
   ],
   "source": [
    "#과제 1: 러블리 러브시트 영수증\n",
    "#리는 중소기업 소유권의 꿈을 추구하고 플릿 스트리트에 깔끔한 스위트를위한 러블리 러브 시트 (Lovely Loveseats)라는 가구 가게를 열기로 결정했습니다. 파이썬 프로그래밍에 대한 새로운 지식을 바탕으로 우리는 고객을위한 영수증을 만드는 과정을 가속화하는 데 도움이되는 시스템을 구축 할 것입니다.\n",
    "\n",
    "#이 프로젝트에서는 가구점 카탈로그의 이름과 가격을 변수로 저장합니다. 그런 다음 고객의 총 가격 및 품목 목록을 처리하여 출력 터미널에 인쇄합니다.\n",
    "\n",
    "\n",
    "#작업\n",
    "#카탈로그에 추가\n",
    "\n",
    "\n",
    "\n",
    "#1 첫 번째 아이템인 러블리 러브시트(Lovely Loveseat)를 추가해 봅시다. 호출 된 변수를 만들고 다음 문자열을 할당하십시오.lovely_loveseat_description\n",
    "lovely_loveseat_description = \"Lovely Loveseat. Tufted polyester blend on wood. 32 inches high x 40 inches wide x 30 inches deep. Red or white.\"\n",
    "\n",
    "#2 좋아, 이제 러브 시트에 대한 가격을 만들어 봅시다. 변수를 만들고 와 동일하게 설정합니다.lovely_loveseat_price254.00\n",
    "lovely_loveseat_price = 254.00\n",
    "\n",
    "#3 또 다른 특징적인 가구로 재고를 확장합시다! 호출 된 변수를 만들고 다음 문자열을 할당하십시오.stylish_settee_description\n",
    "stylish_settee_description = \"Stylish Settee. Faux leather on birch. 29.50 inches high x 54.75 inches wide x 28 inches deep. Black.\"\n",
    "\n",
    "#4 이제 스타일리시한 Settee의 가격을 설정해 보겠습니다. 변수를 만들고 의 값을 할당합니다.stylish_settee_price180.50\n",
    "stylish_settee_price = 180.50\n",
    "\n",
    "#5 환상적인, 우리는 단지 우리가 사업을 위해 준비되기 전에 하나 더 항목이 필요합니다. 호출되는 새 변수를 만들고 다음을 할당합니다.luxurious_lamp_description\n",
    "luxurious_lamp_description = \"Luxurious Lamp. Glass and iron. 36 inches tall. Brown with cream shade.\"\n",
    "\n",
    "#6 이 항목의 가격을 설정해 보겠습니다. 호출 된 변수를 만들고 .luxurious_lamp_price52.15\n",
    "luxurious_lamp_price = 52.15\n",
    "\n",
    "\n",
    "\n",
    "#우리의 첫 번째 고객\n",
    "\n",
    "\n",
    "\n",
    "#7 사업이되기 위해서는 판매세도 계산해야합니다. 그것을 변수에 저장합시다. 변수를 정의하고 . 그것은 8.8 %입니다.sales_tax.088\n",
    "sales_tax =0.088\n",
    "\n",
    "#8 우리의 첫 번째 고객은 구매를하고 있습니다! 라는 변수를 정의하여 지출에 대한 실행 집계를 유지합시다. 그들은 아직 아무것도 구입하지 않았기 때문에 지금 그 변수를 동일하게 설정합시다.customer_one_total0\n",
    "customer_one_total = 0\n",
    "\n",
    "#9 우리는 또한 그들이 구매하고있는 것들에 대한 설명 목록을 유지해야합니다. 호출 된 변수를 만들고 빈 문자열과 동일하게 설정하십시오. 우리는 그들이 구매할 때 이것에 대한 설명을 다룰 것입니다.customer_one_itemization\"\"\n",
    "customer_one_itemization = (\"\")\n",
    "\n",
    "#10 우리의 고객은 그들이 우리의 사랑스러운 러브 시트를 구입하기로 결정했습니다! 에 가격을 추가합니다.customer_one_total\n",
    "customer_one_total = lovely_loveseat_price\n",
    "\n",
    "#11 고객이 구매한 품목을 추적해 보겠습니다. 사랑스러운 러브 시트에 대한 설명을 에 추가하십시오.customer_one_itemization\n",
    "customer_one_itemization +=lovely_loveseat_description\n",
    "\n",
    "#12 우리의 고객은 또한 호화로운 램프를 구입하기로 결정했습니다! 고객의 합계에 가격을 추가해 보겠습니다.\n",
    "customer_one_total += luxurious_lamp_price\n",
    "\n",
    "#13 항목화를 최신 상태로 유지하고 고급 램프에 대한 설명을 항목화에 추가해 보겠습니다.\n",
    "customer_one_itemization += luxurious_lamp_description\n",
    "\n",
    "#14 그들은 체크 아웃 할 준비가되었습니다! 먼저 판매세를 계산해 보겠습니다. 호출 된 변수를 만들고 시간과 동일하게 설정하십시오.customer_one_taxcustomer_one_totalsales_tax\n",
    "customer_one_tax =(customer_one_total * sales_tax)\n",
    "\n",
    "#15 고객의 총 비용에 판매세를 추가합니다.\n",
    "customer_one_total += customer_one_tax\n",
    "\n",
    "#16 영수증 인쇄를 시작합시다! 먼저 항목화에 대한 제목을 인쇄합니다. 문구를 인쇄합니다.\"Customer One Items:\"\n",
    "print (\"Customer One Items:\")\n",
    "\n",
    "#17 인쇄하다.customer_one_itemization\n",
    "print (customer_one_itemization)\n",
    "\n",
    "#18 이제 총 비용에 대한 제목을 추가하십시오 : 인쇄 \"Customer One Total:\"\n",
    "print (\"Customer One Total:\", customer_one_total)\n",
    "\n",
    "\n",
    "#이제 합계를 인쇄하십시오! 우리의 첫 번째 고객은 이제 그들이 구입 한 물건에 대한 영수증을 가지고 있습니다.\n",
    "#축하합니다! 우리는 카탈로그를 만들고 첫 번째 고객에게 서비스를 제공했습니다. 우리는 문자열과 숫자에 대한 지식을 사용하여 변수를 만들고 업데이트했습니다. 우리는 항목별 목록과 고객을위한 총 비용을 인쇄 할 수있었습니다. 사랑 스러운!"
   ]
  },
  {
   "cell_type": "code",
   "execution_count": null,
   "id": "98add47c-a482-4b9f-8c90-f08a0935445e",
   "metadata": {},
   "outputs": [],
   "source": []
  }
 ],
 "metadata": {
  "kernelspec": {
   "display_name": "Python 3 (ipykernel)",
   "language": "python",
   "name": "python3"
  },
  "language_info": {
   "codemirror_mode": {
    "name": "ipython",
    "version": 3
   },
   "file_extension": ".py",
   "mimetype": "text/x-python",
   "name": "python",
   "nbconvert_exporter": "python",
   "pygments_lexer": "ipython3",
   "version": "3.9.12"
  }
 },
 "nbformat": 4,
 "nbformat_minor": 5
}
